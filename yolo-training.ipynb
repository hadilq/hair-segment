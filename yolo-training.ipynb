{
 "cells": [
  {
   "cell_type": "code",
   "execution_count": 8,
   "id": "2c793ce5-3018-468c-aef8-088fa2880057",
   "metadata": {},
   "outputs": [
    {
     "name": "stdout",
     "output_type": "stream",
     "text": [
      "Looking in links: https://download.pytorch.org/whl/cpu/torch_stable.html\n",
      "Collecting torch==2.3.0+cpu\n",
      "  Using cached https://download.pytorch.org/whl/cpu/torch-2.3.0%2Bcpu-cp311-cp311-linux_x86_64.whl (190.4 MB)\n",
      "Collecting torchvision==0.18.0+cpu\n",
      "  Downloading https://download.pytorch.org/whl/cpu/torchvision-0.18.0%2Bcpu-cp311-cp311-linux_x86_64.whl (1.6 MB)\n",
      "\u001b[2K     \u001b[90m━━━━━━━━━━━━━━━━━━━━━━━━━━━━━━━━━━━━━━━━\u001b[0m \u001b[32m1.6/1.6 MB\u001b[0m \u001b[31m18.9 MB/s\u001b[0m eta \u001b[36m0:00:00\u001b[0ma \u001b[36m0:00:01\u001b[0m\n",
      "\u001b[?25hRequirement already satisfied: filelock in /nix/store/vs3khn1ck5d65ynw0mgrxhagi8sxmxmg-python3.11-filelock-3.12.4/lib/python3.11/site-packages (from torch==2.3.0+cpu) (3.12.4)\n",
      "Collecting typing-extensions>=4.8.0 (from torch==2.3.0+cpu)\n",
      "  Obtaining dependency information for typing-extensions>=4.8.0 from https://files.pythonhosted.org/packages/01/f3/936e209267d6ef7510322191003885de524fc48d1b43269810cd589ceaf5/typing_extensions-4.11.0-py3-none-any.whl.metadata\n",
      "  Using cached typing_extensions-4.11.0-py3-none-any.whl.metadata (3.0 kB)\n",
      "Requirement already satisfied: sympy in /home/dev/src/.venv/lib/python3.11/site-packages (from torch==2.3.0+cpu) (1.12)\n",
      "Requirement already satisfied: networkx in /home/dev/src/.venv/lib/python3.11/site-packages (from torch==2.3.0+cpu) (3.3)\n",
      "Requirement already satisfied: jinja2 in /home/dev/src/.venv/lib/python3.11/site-packages (from torch==2.3.0+cpu) (3.1.4)\n",
      "Requirement already satisfied: fsspec in /home/dev/src/.venv/lib/python3.11/site-packages (from torch==2.3.0+cpu) (2024.3.1)\n",
      "Requirement already satisfied: numpy in /nix/store/wcq7srrxaj1470wzx3cmjj8dndldhz54-python3.11-numpy-1.26.1/lib/python3.11/site-packages (from torchvision==0.18.0+cpu) (1.26.1)\n",
      "Requirement already satisfied: pillow!=8.3.*,>=5.3.0 in /home/dev/src/.venv/lib/python3.11/site-packages (from torchvision==0.18.0+cpu) (10.3.0)\n",
      "Requirement already satisfied: MarkupSafe>=2.0 in /home/dev/src/.venv/lib/python3.11/site-packages (from jinja2->torch==2.3.0+cpu) (2.1.5)\n",
      "Requirement already satisfied: mpmath>=0.19 in /home/dev/src/.venv/lib/python3.11/site-packages (from sympy->torch==2.3.0+cpu) (1.3.0)\n",
      "Using cached typing_extensions-4.11.0-py3-none-any.whl (34 kB)\n",
      "Installing collected packages: typing-extensions, torch, torchvision\n",
      "  Attempting uninstall: typing-extensions\n",
      "    Found existing installation: typing_extensions 4.7.1\n",
      "    Not uninstalling typing-extensions at /nix/store/kvwqsbzikk5k1bsiz4z8rik9w3mrcwln-python3.11-typing-extensions-4.7.1/lib/python3.11/site-packages, outside environment /home/dev/src/.venv\n",
      "    Can't uninstall 'typing_extensions'. No files were found to uninstall.\n",
      "  Attempting uninstall: torch\n",
      "    Found existing installation: torch 2.3.0\n",
      "    Uninstalling torch-2.3.0:\n",
      "      Successfully uninstalled torch-2.3.0\n",
      "  Attempting uninstall: torchvision\n",
      "    Found existing installation: torchvision 0.18.0\n",
      "    Uninstalling torchvision-0.18.0:\n",
      "      Successfully uninstalled torchvision-0.18.0\n",
      "Successfully installed torch-2.3.0+cpu torchvision-0.18.0+cpu typing-extensions-4.11.0\n",
      "\n",
      "\u001b[1m[\u001b[0m\u001b[34;49mnotice\u001b[0m\u001b[1;39;49m]\u001b[0m\u001b[39;49m A new release of pip is available: \u001b[0m\u001b[31;49m23.2.1\u001b[0m\u001b[39;49m -> \u001b[0m\u001b[32;49m24.0\u001b[0m\n",
      "\u001b[1m[\u001b[0m\u001b[34;49mnotice\u001b[0m\u001b[1;39;49m]\u001b[0m\u001b[39;49m To update, run: \u001b[0m\u001b[32;49mpip install --upgrade pip\u001b[0m\n",
      "Requirement already satisfied: ultralytics in /home/dev/src/.venv/lib/python3.11/site-packages (8.2.11)\n",
      "\n",
      "\u001b[1m[\u001b[0m\u001b[34;49mnotice\u001b[0m\u001b[1;39;49m]\u001b[0m\u001b[39;49m A new release of pip is available: \u001b[0m\u001b[31;49m23.2.1\u001b[0m\u001b[39;49m -> \u001b[0m\u001b[32;49m24.0\u001b[0m\n",
      "\u001b[1m[\u001b[0m\u001b[34;49mnotice\u001b[0m\u001b[1;39;49m]\u001b[0m\u001b[39;49m To update, run: \u001b[0m\u001b[32;49mpip install --upgrade pip\u001b[0m\n"
     ]
    }
   ],
   "source": [
    "!pip install torch==2.3.0+cpu torchvision==0.18.0+cpu -f https://download.pytorch.org/whl/cpu/torch_stable.html\n",
    "!pip install ultralytics --no-deps"
   ]
  },
  {
   "cell_type": "code",
   "execution_count": 9,
   "id": "b7faaf8d-fd2f-4e0b-b868-a136411a1c55",
   "metadata": {},
   "outputs": [
    {
     "ename": "ModuleNotFoundError",
     "evalue": "No module named 'torch'",
     "output_type": "error",
     "traceback": [
      "\u001b[0;31m---------------------------------------------------------------------------\u001b[0m",
      "\u001b[0;31mModuleNotFoundError\u001b[0m                       Traceback (most recent call last)",
      "Cell \u001b[0;32mIn[9], line 1\u001b[0m\n\u001b[0;32m----> 1\u001b[0m \u001b[38;5;28;01mimport\u001b[39;00m \u001b[38;5;21;01mtorch\u001b[39;00m\n\u001b[1;32m      2\u001b[0m torch\u001b[38;5;241m.\u001b[39m__version__\n",
      "\u001b[0;31mModuleNotFoundError\u001b[0m: No module named 'torch'"
     ]
    }
   ],
   "source": [
    "import torch\n",
    "torch.__version__"
   ]
  },
  {
   "cell_type": "code",
   "execution_count": 10,
   "id": "474ee09f-5935-4d91-b8ee-c232b1308cd7",
   "metadata": {},
   "outputs": [
    {
     "ename": "ImportError",
     "evalue": "cannot import name 'YOLO' from 'ultralytics' (unknown location)",
     "output_type": "error",
     "traceback": [
      "\u001b[0;31m---------------------------------------------------------------------------\u001b[0m",
      "\u001b[0;31mImportError\u001b[0m                               Traceback (most recent call last)",
      "Cell \u001b[0;32mIn[10], line 3\u001b[0m\n\u001b[1;32m      1\u001b[0m \u001b[38;5;28;01mimport\u001b[39;00m \u001b[38;5;21;01mos\u001b[39;00m\n\u001b[1;32m      2\u001b[0m \u001b[38;5;28;01mimport\u001b[39;00m \u001b[38;5;21;01mglob\u001b[39;00m\n\u001b[0;32m----> 3\u001b[0m \u001b[38;5;28;01mfrom\u001b[39;00m \u001b[38;5;21;01multralytics\u001b[39;00m \u001b[38;5;28;01mimport\u001b[39;00m YOLO\n\u001b[1;32m      4\u001b[0m \u001b[38;5;28;01mfrom\u001b[39;00m \u001b[38;5;21;01mIPython\u001b[39;00m \u001b[38;5;28;01mimport\u001b[39;00m display\n\u001b[1;32m      5\u001b[0m display\u001b[38;5;241m.\u001b[39mclear_output()\n",
      "\u001b[0;31mImportError\u001b[0m: cannot import name 'YOLO' from 'ultralytics' (unknown location)"
     ]
    }
   ],
   "source": [
    "import os\n",
    "import glob\n",
    "from ultralytics import YOLO\n",
    "from IPython import display\n",
    "display.clear_output()\n",
    "!yolo mode=check\n",
    "root_path = os.path.abspath('./')"
   ]
  },
  {
   "cell_type": "code",
   "execution_count": null,
   "id": "c9222df0-2c7d-410a-842d-e149ca5bc2f9",
   "metadata": {},
   "outputs": [],
   "source": [
    "!yolo task=segment mode=predict model=best-6.pt conf=0.5 source=hair-seg/train2017/*.jpg imgsz=640"
   ]
  }
 ],
 "metadata": {
  "kernelspec": {
   "display_name": "Python 3 (ipykernel)",
   "language": "python",
   "name": "python3"
  },
  "language_info": {
   "codemirror_mode": {
    "name": "ipython",
    "version": 3
   },
   "file_extension": ".py",
   "mimetype": "text/x-python",
   "name": "python",
   "nbconvert_exporter": "python",
   "pygments_lexer": "ipython3",
   "version": "3.11.8"
  }
 },
 "nbformat": 4,
 "nbformat_minor": 5
}
